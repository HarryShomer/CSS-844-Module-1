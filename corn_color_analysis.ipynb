{
 "cells": [
  {
   "cell_type": "markdown",
   "id": "f6702fde",
   "metadata": {},
   "source": [
    "Using PlantCV tutorial to get color variation"
   ]
  },
  {
   "cell_type": "code",
   "execution_count": 103,
   "id": "8702fada",
   "metadata": {},
   "outputs": [],
   "source": [
    "# Import Libraries\n",
    "from plantcv import plantcv as pcv\n",
    "import matplotlib"
   ]
  },
  {
   "cell_type": "code",
   "execution_count": 104,
   "id": "5fa756d3",
   "metadata": {},
   "outputs": [],
   "source": [
    "class options:\n",
    "    def __init__(self):\n",
    "        self.image = \"/Users/briannabrown/Documents/PhD MSU/Semesters/Spring 2022/CSS 844/module_1/IMG_0002.JPG\"\n",
    "        self.debug = \"print\"\n",
    "        self.writeimg= False\n",
    "        self.result = \"vis_0002_results.json\"\n",
    "        self.outdir = \".\" # Store the output to the current directory\n",
    "        \n",
    "# Get options\n",
    "args = options()\n",
    "\n",
    "# Set debug to the global parameter \n",
    "pcv.params.debug = args.debug"
   ]
  },
  {
   "cell_type": "code",
   "execution_count": 105,
   "id": "7d94628e",
   "metadata": {},
   "outputs": [],
   "source": [
    "# Read image\n",
    "\n",
    "# Inputs:\n",
    "#   filename - Image file to be read in \n",
    "#   mode - How to read in the image; either 'native' (default), 'rgb', 'gray', or 'csv'\n",
    "img, path, filename = pcv.readimage(filename=args.image)"
   ]
  },
  {
   "cell_type": "code",
   "execution_count": 106,
   "id": "47236122",
   "metadata": {},
   "outputs": [],
   "source": [
    "# Convert RGB to HSV and extract the saturation channel\n",
    "\n",
    "# Inputs:\n",
    "#   rgb_image - RGB image data \n",
    "#   channel - Split by 'h' (hue), 's' (saturation), or 'v' (value) channel\n",
    "s = pcv.rgb2gray_hsv(rgb_img=img, channel='s')"
   ]
  },
  {
   "cell_type": "code",
   "execution_count": 107,
   "id": "4f6b3e4e",
   "metadata": {},
   "outputs": [],
   "source": [
    "# Take a binary threshold to separate plant from background. \n",
    "# Threshold can be on either light or dark objects in the image. \n",
    "\n",
    "# Inputs:\n",
    "#   gray_img - Grayscale image data \n",
    "#   threshold- Threshold value (between 0-255)\n",
    "#   max_value - Value to apply above threshold (255 = white) \n",
    "#   object_type - 'light' (default) or 'dark'. If the object is lighter than \n",
    "#                 the background then standard threshold is done. If the object \n",
    "#                 is darker than the background then inverse thresholding is done. \n",
    "s_thresh = pcv.threshold.binary(gray_img=s, threshold=85, max_value=255, object_type='light')"
   ]
  },
  {
   "cell_type": "code",
   "execution_count": 108,
   "id": "e3bf88c3",
   "metadata": {},
   "outputs": [],
   "source": [
    "# Convert RGB to LAB and extract the blue channel ('b')\n",
    "\n",
    "# Input:\n",
    "#   rgb_img - RGB image data \n",
    "#   channel- Split by 'l' (lightness), 'a' (green-magenta), or 'b' (blue-yellow) channel\n",
    "b = pcv.rgb2gray_lab(rgb_img=img, channel='b')\n",
    "\n",
    "# Threshold the blue channel image \n",
    "b_thresh = pcv.threshold.binary(gray_img=b, threshold=160, max_value=255, \n",
    "                                object_type='light')"
   ]
  },
  {
   "cell_type": "code",
   "execution_count": 109,
   "id": "e1cb2dcc",
   "metadata": {},
   "outputs": [],
   "source": [
    "# Join the threshold saturation and blue-yellow images with a logical or operation \n",
    "\n",
    "# Inputs: \n",
    "#   bin_img1 - Binary image data to be compared to bin_img2\n",
    "#   bin_img2 - Binary image data to be compared to bin_img1\n",
    "bs = pcv.logical_or(bin_img1=s_mblur, bin_img2=b_thresh)"
   ]
  },
  {
   "cell_type": "code",
   "execution_count": 110,
   "id": "f42c0d51",
   "metadata": {},
   "outputs": [],
   "source": [
    "# Appy Mask (for VIS images, mask_color='white')\n",
    "\n",
    "# Inputs:\n",
    "#   img - RGB or grayscale image data \n",
    "#   mask - Binary mask image data \n",
    "#   mask_color - 'white' or 'black' \n",
    "masked = pcv.apply_mask(img=img, mask=bs, mask_color='white')\n"
   ]
  },
  {
   "cell_type": "code",
   "execution_count": 111,
   "id": "3fd9681a",
   "metadata": {},
   "outputs": [],
   "source": [
    "# Convert RGB to LAB and extract the Green-Magenta and Blue-Yellow channels\n",
    "\n",
    "masked_a = pcv.rgb2gray_lab(rgb_img=masked, channel='a')\n",
    "masked_b = pcv.rgb2gray_lab(rgb_img=masked, channel='b')"
   ]
  },
  {
   "cell_type": "code",
   "execution_count": 112,
   "id": "559bd9ae",
   "metadata": {},
   "outputs": [],
   "source": [
    "# Threshold the green-magenta and blue images\n",
    "\n",
    "#maskeda_thresh = pcv.threshold.binary(gray_img=masked_a, threshold=115, \n",
    "                                      #max_value=255, object_type='dark')\n",
    "    \n",
    "maskeda_thresh1 = pcv.threshold.binary(gray_img=masked_a, threshold=135, \n",
    "                                       max_value=255, object_type='light')\n",
    "\n",
    "#maskedb_thresh = pcv.threshold.binary(gray_img=masked_b, threshold=128, \n",
    "                                      #max_value=255, object_type='light')"
   ]
  },
  {
   "cell_type": "code",
   "execution_count": 113,
   "id": "9beda31a",
   "metadata": {},
   "outputs": [],
   "source": [
    "############### Analysis ################ \n",
    "  \n",
    "# Find shape properties, data gets stored to an Outputs class automatically\n",
    "\n",
    "# Inputs:\n",
    "#   img - RGB or grayscale image data \n",
    "#   obj- Single or grouped contour object\n",
    "#   mask - Binary image mask to use as mask for moments analysis \n",
    "#   label - Optional label parameter, modifies the variable name of observations recorded. (default `label=\"default\"`)filled_img = pcv.morphology.fill_segments(mask=cropped_mask, objects=edge_objects)\n",
    "\n",
    "analysis_image = pcv.analyze_object(img=img, obj=obj, mask=mask, label=\"default\")"
   ]
  },
  {
   "cell_type": "code",
   "execution_count": 114,
   "id": "b2467cbf",
   "metadata": {},
   "outputs": [],
   "source": [
    "# Shape properties relative to user boundary line (optional)\n",
    "\n",
    "# Inputs:\n",
    "#   img - RGB or grayscale image data \n",
    "#   obj - Single or grouped contour object \n",
    "#   mask - Binary mask of selected contours \n",
    "#   line_position - Position of boundary line (a value of 0 would draw a line \n",
    "#                   through the bottom of the image) \n",
    "#   label - Optional label parameter, modifies the variable name of observations recorded. (default `label=\"default\"`)filled_img = pcv.morphology.fill_segments(mask=cropped_mask, objects=edge_objects)\n",
    "\n",
    "boundary_image2 = pcv.analyze_bound_horizontal(img=img, obj=obj, mask=mask, \n",
    "                                               line_position=370, label=\"default\")\n"
   ]
  },
  {
   "cell_type": "code",
   "execution_count": 115,
   "id": "3b766564",
   "metadata": {},
   "outputs": [],
   "source": [
    "# Determine color properties: Histograms, Color Slices and Pseudocolored Images, output color analyzed images (optional)\n",
    "\n",
    "# Inputs:\n",
    "#   rgb_img - RGB image data\n",
    "#   mask - Binary mask of selected contours \n",
    "#   colorspaces - 'all' (default), 'rgb', 'lab', or 'hsv'\n",
    "#                 This is the data to be printed to the SVG histogram file  \n",
    "#   label - Optional label parameter, modifies the variable name of observations recorded. (default `label=\"default\"`)\n",
    "\n",
    "color_histogram = pcv.analyze_color(rgb_img=img, mask=kept_mask, colorspaces='all', label=\"default\")\n"
   ]
  },
  {
   "cell_type": "code",
   "execution_count": 116,
   "id": "f7fa0344",
   "metadata": {},
   "outputs": [],
   "source": [
    "# Print the histogram out to save it \n",
    "pcv.print_image(img=color_histogram, filename=\"vis_tutorial_color_hist.jpg\")"
   ]
  },
  {
   "cell_type": "code",
   "execution_count": 117,
   "id": "1556abbd",
   "metadata": {},
   "outputs": [],
   "source": [
    "# The save results function will take the measurements stored when running any PlantCV analysis functions, format, \n",
    "# and print an output text file for data analysis. The Outputs class stores data whenever any of the following functions\n",
    "# are ran: analyze_bound_horizontal, analyze_bound_vertical, analyze_color, analyze_nir_intensity, analyze_object, \n",
    "# fluor_fvfm, report_size_marker_area, watershed. If no functions have been run, it will print an empty text file \n",
    "pcv.outputs.save_results(filename=args.result)"
   ]
  },
  {
   "cell_type": "code",
   "execution_count": null,
   "id": "2341dc94",
   "metadata": {},
   "outputs": [],
   "source": []
  }
 ],
 "metadata": {
  "kernelspec": {
   "display_name": "Python 3 (ipykernel)",
   "language": "python",
   "name": "python3"
  },
  "language_info": {
   "codemirror_mode": {
    "name": "ipython",
    "version": 3
   },
   "file_extension": ".py",
   "mimetype": "text/x-python",
   "name": "python",
   "nbconvert_exporter": "python",
   "pygments_lexer": "ipython3",
   "version": "3.9.7"
  }
 },
 "nbformat": 4,
 "nbformat_minor": 5
}
